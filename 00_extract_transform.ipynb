{
 "cells": [
  {
   "cell_type": "markdown",
   "metadata": {},
   "source": [
    "# Prepare success data for analysis"
   ]
  },
  {
   "cell_type": "code",
   "execution_count": 60,
   "metadata": {
    "ExecuteTime": {
     "end_time": "2023-11-26T13:55:53.719958Z",
     "start_time": "2023-11-26T13:55:53.645766Z"
    }
   },
   "outputs": [],
   "source": [
    "import pandas as pd\n",
    "from collections import Counter\n",
    "# Specify the dataset by date\n",
    "DAYLIO_DATE = '11_20'\n",
    "# Specify the removal threshold\n",
    "FREQ_THRESHOLD = 4\n",
    "# Specify the days before limit\n",
    "DAYS_BEFORE_LIMIT = 1"
   ]
  },
  {
   "cell_type": "markdown",
   "metadata": {},
   "source": [
    "### Read app data"
   ]
  },
  {
   "cell_type": "code",
   "execution_count": 61,
   "metadata": {
    "ExecuteTime": {
     "end_time": "2023-11-26T13:55:53.731949Z",
     "start_time": "2023-11-26T13:55:53.648933Z"
    }
   },
   "outputs": [
    {
     "data": {
      "text/plain": "    full_date         date   weekday   time               mood  \\\n0  2023-11-20  November 20    Monday  03:38  strategic failure   \n1  2023-11-18  November 18  Saturday  23:29            day off   \n\n                                          activities  \n0  takeaway | exhausted | 7-9h | family | board g...  \n1  fast cooking | treated | slow | 7-9h | 1 shot ...  ",
      "text/html": "<div>\n<style scoped>\n    .dataframe tbody tr th:only-of-type {\n        vertical-align: middle;\n    }\n\n    .dataframe tbody tr th {\n        vertical-align: top;\n    }\n\n    .dataframe thead th {\n        text-align: right;\n    }\n</style>\n<table border=\"1\" class=\"dataframe\">\n  <thead>\n    <tr style=\"text-align: right;\">\n      <th></th>\n      <th>full_date</th>\n      <th>date</th>\n      <th>weekday</th>\n      <th>time</th>\n      <th>mood</th>\n      <th>activities</th>\n    </tr>\n  </thead>\n  <tbody>\n    <tr>\n      <th>0</th>\n      <td>2023-11-20</td>\n      <td>November 20</td>\n      <td>Monday</td>\n      <td>03:38</td>\n      <td>strategic failure</td>\n      <td>takeaway | exhausted | 7-9h | family | board g...</td>\n    </tr>\n    <tr>\n      <th>1</th>\n      <td>2023-11-18</td>\n      <td>November 18</td>\n      <td>Saturday</td>\n      <td>23:29</td>\n      <td>day off</td>\n      <td>fast cooking | treated | slow | 7-9h | 1 shot ...</td>\n    </tr>\n  </tbody>\n</table>\n</div>"
     },
     "execution_count": 61,
     "metadata": {},
     "output_type": "execute_result"
    }
   ],
   "source": [
    "# Read CSV file exported from the Daylio app\n",
    "filename = f'daylio_export_2023_{DAYLIO_DATE}.csv'\n",
    "df = pd.read_csv(filename)\n",
    "# Drop diary note columns\n",
    "df.drop(columns=['note_title', 'note'], inplace=True)\n",
    "df.head(2)"
   ]
  },
  {
   "cell_type": "markdown",
   "metadata": {},
   "source": [
    "### Create datetime column"
   ]
  },
  {
   "cell_type": "code",
   "execution_count": 62,
   "metadata": {
    "ExecuteTime": {
     "end_time": "2023-11-26T13:55:53.792976Z",
     "start_time": "2023-11-26T13:55:53.657308Z"
    }
   },
   "outputs": [
    {
     "name": "stdout",
     "output_type": "stream",
     "text": [
      "From 2023-10-07 23:59:00 to 2023-11-20 03:38:00\n"
     ]
    }
   ],
   "source": [
    "# Combine the date and time columns into a single one\n",
    "df['datetime'] = pd.to_datetime(df['full_date'] + ' ' + df['time'], format='%Y-%m-%d %H:%M')\n",
    "# Drop other date columns\n",
    "df.drop(columns=['full_date', 'weekday', 'date', 'time'], inplace=True)\n",
    "# Print earliest and latest dates\n",
    "print(f\"From {df['datetime'].min()} to {df['datetime'].max()}\")"
   ]
  },
  {
   "cell_type": "markdown",
   "source": [
    "### Scale Feature Functions"
   ],
   "metadata": {
    "collapsed": false
   }
  },
  {
   "cell_type": "code",
   "execution_count": 63,
   "outputs": [],
   "source": [
    "def clean_activities(scale):\n",
    "    \"\"\"Remove activities from the activity list.\"\"\"\n",
    "    df['activities'] = df['activities'].apply(lambda x: [i for i in x if i not in scale.keys()])\n",
    "\n",
    "def scale_activities(scale, new_col_name):\n",
    "    \"\"\"Scale activities in the activity list.\"\"\"\n",
    "    df[new_col_name] = df['activities'].apply(lambda x: [i for i in x if i in scale.keys()])\n",
    "    clean_activities(scale)\n",
    "    df[new_col_name] = df[new_col_name].apply(lambda x: scale[x[0]] if len(x)>0 else None)\n",
    "\n",
    "def increment_scale(activities, scale):\n",
    "    \"\"\"Increment scale with other activities.\"\"\"\n",
    "    total = 0\n",
    "    for item in activities:\n",
    "        if item in scale:\n",
    "            total += scale[item]\n",
    "    return total\n",
    "\n",
    "def balance_feature(col, default=0):\n",
    "    \"\"\"Put zeroes and minimise ones.\"\"\"\n",
    "    df[col].fillna(default, inplace=True)\n",
    "    df[col] = df[col].apply(lambda x: 1 if x>1 else x)\n",
    "\n",
    "# Parse activities into list\n",
    "df['activities'] = df['activities'].apply(lambda x: x.split(' | '))"
   ],
   "metadata": {
    "collapsed": false,
    "ExecuteTime": {
     "end_time": "2023-11-26T13:55:53.794130Z",
     "start_time": "2023-11-26T13:55:53.662525Z"
    }
   }
  },
  {
   "cell_type": "markdown",
   "metadata": {},
   "source": [
    "### Scale ordinal success labels"
   ]
  },
  {
   "cell_type": "code",
   "execution_count": 64,
   "metadata": {
    "ExecuteTime": {
     "end_time": "2023-11-26T13:55:53.796062Z",
     "start_time": "2023-11-26T13:55:53.667456Z"
    }
   },
   "outputs": [
    {
     "data": {
      "text/plain": "   success                                         activities  \\\n0     0.00  [takeaway, exhausted, 7-9h, family, board game...   \n1     0.25  [fast cooking, treated, slow, 7-9h, 1 shot, sh...   \n\n             datetime  \n0 2023-11-20 03:38:00  \n1 2023-11-18 23:29:00  ",
      "text/html": "<div>\n<style scoped>\n    .dataframe tbody tr th:only-of-type {\n        vertical-align: middle;\n    }\n\n    .dataframe tbody tr th {\n        vertical-align: top;\n    }\n\n    .dataframe thead th {\n        text-align: right;\n    }\n</style>\n<table border=\"1\" class=\"dataframe\">\n  <thead>\n    <tr style=\"text-align: right;\">\n      <th></th>\n      <th>success</th>\n      <th>activities</th>\n      <th>datetime</th>\n    </tr>\n  </thead>\n  <tbody>\n    <tr>\n      <th>0</th>\n      <td>0.00</td>\n      <td>[takeaway, exhausted, 7-9h, family, board game...</td>\n      <td>2023-11-20 03:38:00</td>\n    </tr>\n    <tr>\n      <th>1</th>\n      <td>0.25</td>\n      <td>[fast cooking, treated, slow, 7-9h, 1 shot, sh...</td>\n      <td>2023-11-18 23:29:00</td>\n    </tr>\n  </tbody>\n</table>\n</div>"
     },
     "execution_count": 64,
     "metadata": {},
     "output_type": "execute_result"
    }
   ],
   "source": [
    "success_col = 'success'\n",
    "# Map each success label to ordinal scale\n",
    "success_scale = {\n",
    "    'strategic success': 1.00,\n",
    "    'gain': 0.75,\n",
    "    'expensive gain': 0.50,\n",
    "    'day off': 0.25,\n",
    "    'strategic failure': 0.00\n",
    "}\n",
    "# Create the success target column\n",
    "df.rename(columns={'mood': success_col}, inplace=True)\n",
    "df[success_col] = df[success_col].map(success_scale)\n",
    "df.head(2)"
   ]
  },
  {
   "cell_type": "markdown",
   "source": [
    "### Scale energy"
   ],
   "metadata": {
    "collapsed": false
   }
  },
  {
   "cell_type": "code",
   "execution_count": 65,
   "outputs": [
    {
     "data": {
      "text/plain": "   success                                         activities  \\\n0     0.00  [takeaway, 7-9h, family, board games, youtube,...   \n1     0.25  [fast cooking, treated, 7-9h, 1 shot, shower, ...   \n\n             datetime  energy  \n0 2023-11-20 03:38:00    0.00  \n1 2023-11-18 23:29:00    0.33  ",
      "text/html": "<div>\n<style scoped>\n    .dataframe tbody tr th:only-of-type {\n        vertical-align: middle;\n    }\n\n    .dataframe tbody tr th {\n        vertical-align: top;\n    }\n\n    .dataframe thead th {\n        text-align: right;\n    }\n</style>\n<table border=\"1\" class=\"dataframe\">\n  <thead>\n    <tr style=\"text-align: right;\">\n      <th></th>\n      <th>success</th>\n      <th>activities</th>\n      <th>datetime</th>\n      <th>energy</th>\n    </tr>\n  </thead>\n  <tbody>\n    <tr>\n      <th>0</th>\n      <td>0.00</td>\n      <td>[takeaway, 7-9h, family, board games, youtube,...</td>\n      <td>2023-11-20 03:38:00</td>\n      <td>0.00</td>\n    </tr>\n    <tr>\n      <th>1</th>\n      <td>0.25</td>\n      <td>[fast cooking, treated, 7-9h, 1 shot, shower, ...</td>\n      <td>2023-11-18 23:29:00</td>\n      <td>0.33</td>\n    </tr>\n  </tbody>\n</table>\n</div>"
     },
     "execution_count": 65,
     "metadata": {},
     "output_type": "execute_result"
    }
   ],
   "source": [
    "# Map each energy label to ordinal scale \n",
    "energy_scale = {\n",
    "    'rush': 1.00,\n",
    "    'quick': 0.66,\n",
    "    'slow': 0.33,\n",
    "    'exhausted': 0\n",
    "}\n",
    "scale_activities(energy_scale, 'energy')\n",
    "df.head(2)"
   ],
   "metadata": {
    "collapsed": false,
    "ExecuteTime": {
     "end_time": "2023-11-26T13:55:53.797066Z",
     "start_time": "2023-11-26T13:55:53.673413Z"
    }
   }
  },
  {
   "cell_type": "markdown",
   "metadata": {},
   "source": [
    "### Scale ordinal sleep quality labels"
   ]
  },
  {
   "cell_type": "code",
   "execution_count": 66,
   "metadata": {
    "ExecuteTime": {
     "end_time": "2023-11-26T13:55:53.804421Z",
     "start_time": "2023-11-26T13:55:53.675907Z"
    }
   },
   "outputs": [
    {
     "data": {
      "text/plain": "   success                                         activities  \\\n0     0.00  [takeaway, family, board games, youtube, reels...   \n1     0.25  [fast cooking, treated, 1 shot, shower, family...   \n\n             datetime  energy  sleep  \n0 2023-11-20 03:38:00    0.00   0.66  \n1 2023-11-18 23:29:00    0.33   0.66  ",
      "text/html": "<div>\n<style scoped>\n    .dataframe tbody tr th:only-of-type {\n        vertical-align: middle;\n    }\n\n    .dataframe tbody tr th {\n        vertical-align: top;\n    }\n\n    .dataframe thead th {\n        text-align: right;\n    }\n</style>\n<table border=\"1\" class=\"dataframe\">\n  <thead>\n    <tr style=\"text-align: right;\">\n      <th></th>\n      <th>success</th>\n      <th>activities</th>\n      <th>datetime</th>\n      <th>energy</th>\n      <th>sleep</th>\n    </tr>\n  </thead>\n  <tbody>\n    <tr>\n      <th>0</th>\n      <td>0.00</td>\n      <td>[takeaway, family, board games, youtube, reels...</td>\n      <td>2023-11-20 03:38:00</td>\n      <td>0.00</td>\n      <td>0.66</td>\n    </tr>\n    <tr>\n      <th>1</th>\n      <td>0.25</td>\n      <td>[fast cooking, treated, 1 shot, shower, family...</td>\n      <td>2023-11-18 23:29:00</td>\n      <td>0.33</td>\n      <td>0.66</td>\n    </tr>\n  </tbody>\n</table>\n</div>"
     },
     "execution_count": 66,
     "metadata": {},
     "output_type": "execute_result"
    }
   ],
   "source": [
    "# Map each sleep quality label to ordinal scale \n",
    "sleep_scale = {\n",
    "    '9+h': 1.00,\n",
    "    '7-9h': 0.66,\n",
    "    '5-7h': 0.33,\n",
    "    '<5h': 0\n",
    "}\n",
    "scale_activities(sleep_scale, 'sleep')\n",
    "df.head(2)"
   ]
  },
  {
   "cell_type": "markdown",
   "source": [
    "### Scale ordinal caffeine labels"
   ],
   "metadata": {
    "collapsed": false
   }
  },
  {
   "cell_type": "code",
   "execution_count": 67,
   "outputs": [
    {
     "data": {
      "text/plain": "   success                                         activities  \\\n0     0.00  [takeaway, family, board games, youtube, reels...   \n1     0.25  [fast cooking, treated, shower, family, friend...   \n\n             datetime  energy  sleep  caffeine  \n0 2023-11-20 03:38:00    0.00   0.66      0.00  \n1 2023-11-18 23:29:00    0.33   0.66      0.34  ",
      "text/html": "<div>\n<style scoped>\n    .dataframe tbody tr th:only-of-type {\n        vertical-align: middle;\n    }\n\n    .dataframe tbody tr th {\n        vertical-align: top;\n    }\n\n    .dataframe thead th {\n        text-align: right;\n    }\n</style>\n<table border=\"1\" class=\"dataframe\">\n  <thead>\n    <tr style=\"text-align: right;\">\n      <th></th>\n      <th>success</th>\n      <th>activities</th>\n      <th>datetime</th>\n      <th>energy</th>\n      <th>sleep</th>\n      <th>caffeine</th>\n    </tr>\n  </thead>\n  <tbody>\n    <tr>\n      <th>0</th>\n      <td>0.00</td>\n      <td>[takeaway, family, board games, youtube, reels...</td>\n      <td>2023-11-20 03:38:00</td>\n      <td>0.00</td>\n      <td>0.66</td>\n      <td>0.00</td>\n    </tr>\n    <tr>\n      <th>1</th>\n      <td>0.25</td>\n      <td>[fast cooking, treated, shower, family, friend...</td>\n      <td>2023-11-18 23:29:00</td>\n      <td>0.33</td>\n      <td>0.66</td>\n      <td>0.34</td>\n    </tr>\n  </tbody>\n</table>\n</div>"
     },
     "execution_count": 67,
     "metadata": {},
     "output_type": "execute_result"
    }
   ],
   "source": [
    "# Scale coffee shots\n",
    "caffeine_scale = {\n",
    "    '3+ shots': 1.00,\n",
    "    '2 shots': 0.67,\n",
    "    '1 shot': 0.34,\n",
    "}\n",
    "scale_activities(caffeine_scale, 'caffeine')\n",
    "# Add other caffeine drinks\n",
    "other_caffeine_drinks = {\n",
    "    'soda': 0.16,\n",
    "    'green tea': 0.25\n",
    "}\n",
    "df['caffeine'] += df['activities'].apply(increment_scale, args=(other_caffeine_drinks, ))\n",
    "clean_activities(other_caffeine_drinks)\n",
    "# Balance the feature\n",
    "balance_feature('caffeine')\n",
    "df.head(2)"
   ],
   "metadata": {
    "collapsed": false,
    "ExecuteTime": {
     "end_time": "2023-11-26T13:55:53.805559Z",
     "start_time": "2023-11-26T13:55:53.684225Z"
    }
   }
  },
  {
   "cell_type": "markdown",
   "source": [
    "### Scale Job"
   ],
   "metadata": {
    "collapsed": false
   }
  },
  {
   "cell_type": "code",
   "execution_count": 68,
   "outputs": [
    {
     "data": {
      "text/plain": "   success                                         activities  \\\n0     0.00  [takeaway, family, board games, youtube, reels...   \n1     0.25  [fast cooking, treated, shower, family, friend...   \n\n             datetime  energy  sleep  caffeine  job_hours  \n0 2023-11-20 03:38:00    0.00   0.66      0.00        0.0  \n1 2023-11-18 23:29:00    0.33   0.66      0.34        0.0  ",
      "text/html": "<div>\n<style scoped>\n    .dataframe tbody tr th:only-of-type {\n        vertical-align: middle;\n    }\n\n    .dataframe tbody tr th {\n        vertical-align: top;\n    }\n\n    .dataframe thead th {\n        text-align: right;\n    }\n</style>\n<table border=\"1\" class=\"dataframe\">\n  <thead>\n    <tr style=\"text-align: right;\">\n      <th></th>\n      <th>success</th>\n      <th>activities</th>\n      <th>datetime</th>\n      <th>energy</th>\n      <th>sleep</th>\n      <th>caffeine</th>\n      <th>job_hours</th>\n    </tr>\n  </thead>\n  <tbody>\n    <tr>\n      <th>0</th>\n      <td>0.00</td>\n      <td>[takeaway, family, board games, youtube, reels...</td>\n      <td>2023-11-20 03:38:00</td>\n      <td>0.00</td>\n      <td>0.66</td>\n      <td>0.00</td>\n      <td>0.0</td>\n    </tr>\n    <tr>\n      <th>1</th>\n      <td>0.25</td>\n      <td>[fast cooking, treated, shower, family, friend...</td>\n      <td>2023-11-18 23:29:00</td>\n      <td>0.33</td>\n      <td>0.66</td>\n      <td>0.34</td>\n      <td>0.0</td>\n    </tr>\n  </tbody>\n</table>\n</div>"
     },
     "execution_count": 68,
     "metadata": {},
     "output_type": "execute_result"
    }
   ],
   "source": [
    "# Map job label to ordinal scale \n",
    "job_scale = {\n",
    "    'worked 7+ hours': 1.00,\n",
    "    'worked 5-6 hours': 0.75,\n",
    "    'worked 3-4 hours': 0.50,\n",
    "    'worked <2 hours': 0.25\n",
    "}\n",
    "scale_activities(job_scale, 'job_hours')\n",
    "balance_feature('job_hours')\n",
    "df.head(2)"
   ],
   "metadata": {
    "collapsed": false,
    "ExecuteTime": {
     "end_time": "2023-11-26T13:55:53.807394Z",
     "start_time": "2023-11-26T13:55:53.689525Z"
    }
   }
  },
  {
   "cell_type": "markdown",
   "source": [
    "### Scale Studies"
   ],
   "metadata": {
    "collapsed": false
   }
  },
  {
   "cell_type": "code",
   "execution_count": 69,
   "outputs": [
    {
     "data": {
      "text/plain": "   success                                         activities  \\\n0     0.00  [takeaway, family, board games, youtube, reels...   \n1     0.25  [fast cooking, treated, shower, family, friend...   \n\n             datetime  energy  sleep  caffeine  job_hours  study_hours  \n0 2023-11-20 03:38:00    0.00   0.66      0.00        0.0          0.0  \n1 2023-11-18 23:29:00    0.33   0.66      0.34        0.0          0.0  ",
      "text/html": "<div>\n<style scoped>\n    .dataframe tbody tr th:only-of-type {\n        vertical-align: middle;\n    }\n\n    .dataframe tbody tr th {\n        vertical-align: top;\n    }\n\n    .dataframe thead th {\n        text-align: right;\n    }\n</style>\n<table border=\"1\" class=\"dataframe\">\n  <thead>\n    <tr style=\"text-align: right;\">\n      <th></th>\n      <th>success</th>\n      <th>activities</th>\n      <th>datetime</th>\n      <th>energy</th>\n      <th>sleep</th>\n      <th>caffeine</th>\n      <th>job_hours</th>\n      <th>study_hours</th>\n    </tr>\n  </thead>\n  <tbody>\n    <tr>\n      <th>0</th>\n      <td>0.00</td>\n      <td>[takeaway, family, board games, youtube, reels...</td>\n      <td>2023-11-20 03:38:00</td>\n      <td>0.00</td>\n      <td>0.66</td>\n      <td>0.00</td>\n      <td>0.0</td>\n      <td>0.0</td>\n    </tr>\n    <tr>\n      <th>1</th>\n      <td>0.25</td>\n      <td>[fast cooking, treated, shower, family, friend...</td>\n      <td>2023-11-18 23:29:00</td>\n      <td>0.33</td>\n      <td>0.66</td>\n      <td>0.34</td>\n      <td>0.0</td>\n      <td>0.0</td>\n    </tr>\n  </tbody>\n</table>\n</div>"
     },
     "execution_count": 69,
     "metadata": {},
     "output_type": "execute_result"
    }
   ],
   "source": [
    "# Map study label to ordinal scale \n",
    "study_scale = {\n",
    "    'studied 7+ hours': 1.00,\n",
    "    'studied 5-6 hours': 0.75,\n",
    "    'studied 3-4 hours': 0.50,\n",
    "    'studied <2 hours': 0.25\n",
    "}\n",
    "scale_activities(study_scale, 'study_hours')\n",
    "balance_feature('study_hours')\n",
    "df.head(2)"
   ],
   "metadata": {
    "collapsed": false,
    "ExecuteTime": {
     "end_time": "2023-11-26T13:55:53.813620Z",
     "start_time": "2023-11-26T13:55:53.695157Z"
    }
   }
  },
  {
   "cell_type": "markdown",
   "source": [
    "### Combine Studies and Job into Work"
   ],
   "metadata": {
    "collapsed": false
   }
  },
  {
   "cell_type": "code",
   "execution_count": 70,
   "outputs": [
    {
     "data": {
      "text/plain": "   success                                         activities  \\\n0     0.00  [takeaway, family, board games, youtube, reels...   \n1     0.25  [fast cooking, treated, shower, family, friend...   \n\n             datetime  energy  sleep  caffeine  job_hours  study_hours  \\\n0 2023-11-20 03:38:00    0.00   0.66      0.00        0.0          0.0   \n1 2023-11-18 23:29:00    0.33   0.66      0.34        0.0          0.0   \n\n   total_work_hours  \n0               0.0  \n1               0.0  ",
      "text/html": "<div>\n<style scoped>\n    .dataframe tbody tr th:only-of-type {\n        vertical-align: middle;\n    }\n\n    .dataframe tbody tr th {\n        vertical-align: top;\n    }\n\n    .dataframe thead th {\n        text-align: right;\n    }\n</style>\n<table border=\"1\" class=\"dataframe\">\n  <thead>\n    <tr style=\"text-align: right;\">\n      <th></th>\n      <th>success</th>\n      <th>activities</th>\n      <th>datetime</th>\n      <th>energy</th>\n      <th>sleep</th>\n      <th>caffeine</th>\n      <th>job_hours</th>\n      <th>study_hours</th>\n      <th>total_work_hours</th>\n    </tr>\n  </thead>\n  <tbody>\n    <tr>\n      <th>0</th>\n      <td>0.00</td>\n      <td>[takeaway, family, board games, youtube, reels...</td>\n      <td>2023-11-20 03:38:00</td>\n      <td>0.00</td>\n      <td>0.66</td>\n      <td>0.00</td>\n      <td>0.0</td>\n      <td>0.0</td>\n      <td>0.0</td>\n    </tr>\n    <tr>\n      <th>1</th>\n      <td>0.25</td>\n      <td>[fast cooking, treated, shower, family, friend...</td>\n      <td>2023-11-18 23:29:00</td>\n      <td>0.33</td>\n      <td>0.66</td>\n      <td>0.34</td>\n      <td>0.0</td>\n      <td>0.0</td>\n      <td>0.0</td>\n    </tr>\n  </tbody>\n</table>\n</div>"
     },
     "execution_count": 70,
     "metadata": {},
     "output_type": "execute_result"
    }
   ],
   "source": [
    "# Map study label to ordinal scale \n",
    "df[\"total_work_hours\"] = df[\"study_hours\"] + df[\"job_hours\"]\n",
    "balance_feature('total_work_hours')\n",
    "df.head(2)"
   ],
   "metadata": {
    "collapsed": false,
    "ExecuteTime": {
     "end_time": "2023-11-26T13:55:53.814948Z",
     "start_time": "2023-11-26T13:55:53.700811Z"
    }
   }
  },
  {
   "cell_type": "markdown",
   "source": [
    "### Scale Luck"
   ],
   "metadata": {
    "collapsed": false
   }
  },
  {
   "cell_type": "code",
   "execution_count": 71,
   "outputs": [
    {
     "data": {
      "text/plain": "   success                                         activities  \\\n0     0.00  [takeaway, family, board games, youtube, reels...   \n1     0.25  [fast cooking, treated, shower, family, friend...   \n\n             datetime  energy  sleep  caffeine  job_hours  study_hours  \\\n0 2023-11-20 03:38:00    0.00   0.66      0.00        0.0          0.0   \n1 2023-11-18 23:29:00    0.33   0.66      0.34        0.0          0.0   \n\n   total_work_hours  luck  \n0               0.0   0.5  \n1               0.0   0.5  ",
      "text/html": "<div>\n<style scoped>\n    .dataframe tbody tr th:only-of-type {\n        vertical-align: middle;\n    }\n\n    .dataframe tbody tr th {\n        vertical-align: top;\n    }\n\n    .dataframe thead th {\n        text-align: right;\n    }\n</style>\n<table border=\"1\" class=\"dataframe\">\n  <thead>\n    <tr style=\"text-align: right;\">\n      <th></th>\n      <th>success</th>\n      <th>activities</th>\n      <th>datetime</th>\n      <th>energy</th>\n      <th>sleep</th>\n      <th>caffeine</th>\n      <th>job_hours</th>\n      <th>study_hours</th>\n      <th>total_work_hours</th>\n      <th>luck</th>\n    </tr>\n  </thead>\n  <tbody>\n    <tr>\n      <th>0</th>\n      <td>0.00</td>\n      <td>[takeaway, family, board games, youtube, reels...</td>\n      <td>2023-11-20 03:38:00</td>\n      <td>0.00</td>\n      <td>0.66</td>\n      <td>0.00</td>\n      <td>0.0</td>\n      <td>0.0</td>\n      <td>0.0</td>\n      <td>0.5</td>\n    </tr>\n    <tr>\n      <th>1</th>\n      <td>0.25</td>\n      <td>[fast cooking, treated, shower, family, friend...</td>\n      <td>2023-11-18 23:29:00</td>\n      <td>0.33</td>\n      <td>0.66</td>\n      <td>0.34</td>\n      <td>0.0</td>\n      <td>0.0</td>\n      <td>0.0</td>\n      <td>0.5</td>\n    </tr>\n  </tbody>\n</table>\n</div>"
     },
     "execution_count": 71,
     "metadata": {},
     "output_type": "execute_result"
    }
   ],
   "source": [
    "# Map luck label to ordinal scale \n",
    "luck_scale = {\n",
    "    'lucky': 1.00,\n",
    "    'unlucky': 0.00,\n",
    "}\n",
    "scale_activities(luck_scale, 'luck')\n",
    "balance_feature('luck', 0.5)\n",
    "df.head(2)"
   ],
   "metadata": {
    "collapsed": false,
    "ExecuteTime": {
     "end_time": "2023-11-26T13:55:53.818581Z",
     "start_time": "2023-11-26T13:55:53.707647Z"
    }
   }
  },
  {
   "cell_type": "markdown",
   "source": [
    "### Scale Strategy"
   ],
   "metadata": {
    "collapsed": false
   }
  },
  {
   "cell_type": "code",
   "execution_count": 72,
   "outputs": [
    {
     "data": {
      "text/plain": "   success                                         activities  \\\n0     0.00  [takeaway, family, board games, youtube, reels...   \n1     0.25  [fast cooking, treated, shower, family, friend...   \n\n             datetime  energy  sleep  caffeine  job_hours  study_hours  \\\n0 2023-11-20 03:38:00    0.00   0.66      0.00        0.0          0.0   \n1 2023-11-18 23:29:00    0.33   0.66      0.34        0.0          0.0   \n\n   total_work_hours  luck  strategy  \n0               0.0   0.5       0.0  \n1               0.0   0.5       0.0  ",
      "text/html": "<div>\n<style scoped>\n    .dataframe tbody tr th:only-of-type {\n        vertical-align: middle;\n    }\n\n    .dataframe tbody tr th {\n        vertical-align: top;\n    }\n\n    .dataframe thead th {\n        text-align: right;\n    }\n</style>\n<table border=\"1\" class=\"dataframe\">\n  <thead>\n    <tr style=\"text-align: right;\">\n      <th></th>\n      <th>success</th>\n      <th>activities</th>\n      <th>datetime</th>\n      <th>energy</th>\n      <th>sleep</th>\n      <th>caffeine</th>\n      <th>job_hours</th>\n      <th>study_hours</th>\n      <th>total_work_hours</th>\n      <th>luck</th>\n      <th>strategy</th>\n    </tr>\n  </thead>\n  <tbody>\n    <tr>\n      <th>0</th>\n      <td>0.00</td>\n      <td>[takeaway, family, board games, youtube, reels...</td>\n      <td>2023-11-20 03:38:00</td>\n      <td>0.00</td>\n      <td>0.66</td>\n      <td>0.00</td>\n      <td>0.0</td>\n      <td>0.0</td>\n      <td>0.0</td>\n      <td>0.5</td>\n      <td>0.0</td>\n    </tr>\n    <tr>\n      <th>1</th>\n      <td>0.25</td>\n      <td>[fast cooking, treated, shower, family, friend...</td>\n      <td>2023-11-18 23:29:00</td>\n      <td>0.33</td>\n      <td>0.66</td>\n      <td>0.34</td>\n      <td>0.0</td>\n      <td>0.0</td>\n      <td>0.0</td>\n      <td>0.5</td>\n      <td>0.0</td>\n    </tr>\n  </tbody>\n</table>\n</div>"
     },
     "execution_count": 72,
     "metadata": {},
     "output_type": "execute_result"
    }
   ],
   "source": [
    "# Map strategic labels to ordinal scale \n",
    "strategic_scale = {\n",
    "    'Merry Xmas': 0.25,\n",
    "    'dive into deepest shit': 0.25,\n",
    "    'stop consuming content': 0.25,\n",
    "    'avoid mistakes': 0.25,\n",
    "}\n",
    "df['strategy'] = df['activities'].apply(increment_scale, args=(strategic_scale, ))\n",
    "clean_activities(strategic_scale)\n",
    "df.head(2)"
   ],
   "metadata": {
    "collapsed": false,
    "ExecuteTime": {
     "end_time": "2023-11-26T13:55:53.847861Z",
     "start_time": "2023-11-26T13:55:53.713718Z"
    }
   }
  },
  {
   "cell_type": "markdown",
   "source": [
    "### Scale external influence"
   ],
   "metadata": {
    "collapsed": false
   }
  },
  {
   "cell_type": "code",
   "execution_count": 73,
   "outputs": [
    {
     "data": {
      "text/plain": "   success                                         activities  \\\n0     0.00  [takeaway, family, board games, youtube, reels...   \n1     0.25  [fast cooking, treated, shower, family, friend...   \n\n             datetime  energy  sleep  caffeine  job_hours  study_hours  \\\n0 2023-11-20 03:38:00    0.00   0.66      0.00        0.0          0.0   \n1 2023-11-18 23:29:00    0.33   0.66      0.34        0.0          0.0   \n\n   total_work_hours  luck  strategy  agreeableness  \n0               0.0   0.5       0.0            0.5  \n1               0.0   0.5       0.0            0.5  ",
      "text/html": "<div>\n<style scoped>\n    .dataframe tbody tr th:only-of-type {\n        vertical-align: middle;\n    }\n\n    .dataframe tbody tr th {\n        vertical-align: top;\n    }\n\n    .dataframe thead th {\n        text-align: right;\n    }\n</style>\n<table border=\"1\" class=\"dataframe\">\n  <thead>\n    <tr style=\"text-align: right;\">\n      <th></th>\n      <th>success</th>\n      <th>activities</th>\n      <th>datetime</th>\n      <th>energy</th>\n      <th>sleep</th>\n      <th>caffeine</th>\n      <th>job_hours</th>\n      <th>study_hours</th>\n      <th>total_work_hours</th>\n      <th>luck</th>\n      <th>strategy</th>\n      <th>agreeableness</th>\n    </tr>\n  </thead>\n  <tbody>\n    <tr>\n      <th>0</th>\n      <td>0.00</td>\n      <td>[takeaway, family, board games, youtube, reels...</td>\n      <td>2023-11-20 03:38:00</td>\n      <td>0.00</td>\n      <td>0.66</td>\n      <td>0.00</td>\n      <td>0.0</td>\n      <td>0.0</td>\n      <td>0.0</td>\n      <td>0.5</td>\n      <td>0.0</td>\n      <td>0.5</td>\n    </tr>\n    <tr>\n      <th>1</th>\n      <td>0.25</td>\n      <td>[fast cooking, treated, shower, family, friend...</td>\n      <td>2023-11-18 23:29:00</td>\n      <td>0.33</td>\n      <td>0.66</td>\n      <td>0.34</td>\n      <td>0.0</td>\n      <td>0.0</td>\n      <td>0.0</td>\n      <td>0.5</td>\n      <td>0.0</td>\n      <td>0.5</td>\n    </tr>\n  </tbody>\n</table>\n</div>"
     },
     "execution_count": 73,
     "metadata": {},
     "output_type": "execute_result"
    }
   ],
   "source": [
    "# Map saying \"yes\" or \"no\" to people label to ordinal scale \n",
    "yes_scale = {\n",
    "    'said yes\"\"': 1.00,\n",
    "    'said no\"\"': 0.00,\n",
    "}\n",
    "scale_activities(yes_scale, 'agreeableness')\n",
    "balance_feature('agreeableness', 0.5)\n",
    "df.head(2)"
   ],
   "metadata": {
    "collapsed": false,
    "ExecuteTime": {
     "end_time": "2023-11-26T13:55:53.854893Z",
     "start_time": "2023-11-26T13:55:53.719603Z"
    }
   }
  },
  {
   "cell_type": "markdown",
   "metadata": {},
   "source": [
    "### One-hot encode other activities"
   ]
  },
  {
   "cell_type": "code",
   "execution_count": 74,
   "metadata": {
    "ExecuteTime": {
     "end_time": "2023-11-26T13:55:53.856663Z",
     "start_time": "2023-11-26T13:55:53.729359Z"
    }
   },
   "outputs": [
    {
     "data": {
      "text/plain": "   success            datetime  energy  sleep  caffeine  job_hours  \\\n0     0.00 2023-11-20 03:38:00    0.00   0.66      0.00        0.0   \n1     0.25 2023-11-18 23:29:00    0.33   0.66      0.34        0.0   \n\n   study_hours  total_work_hours  luck  strategy  ...  fasted  \\\n0          0.0               0.0   0.5       0.0  ...       0   \n1          0.0               0.0   0.5       0.0  ...       0   \n\n   healthy cooking  notion  snoosing  angry  burtnieku  coworkers  rbs  \\\n0                0       0         0      0          0          0    0   \n1                0       0         0      0          0          0    0   \n\n   office  spend money  \n0       0            0  \n1       0            0  \n\n[2 rows x 35 columns]",
      "text/html": "<div>\n<style scoped>\n    .dataframe tbody tr th:only-of-type {\n        vertical-align: middle;\n    }\n\n    .dataframe tbody tr th {\n        vertical-align: top;\n    }\n\n    .dataframe thead th {\n        text-align: right;\n    }\n</style>\n<table border=\"1\" class=\"dataframe\">\n  <thead>\n    <tr style=\"text-align: right;\">\n      <th></th>\n      <th>success</th>\n      <th>datetime</th>\n      <th>energy</th>\n      <th>sleep</th>\n      <th>caffeine</th>\n      <th>job_hours</th>\n      <th>study_hours</th>\n      <th>total_work_hours</th>\n      <th>luck</th>\n      <th>strategy</th>\n      <th>...</th>\n      <th>fasted</th>\n      <th>healthy cooking</th>\n      <th>notion</th>\n      <th>snoosing</th>\n      <th>angry</th>\n      <th>burtnieku</th>\n      <th>coworkers</th>\n      <th>rbs</th>\n      <th>office</th>\n      <th>spend money</th>\n    </tr>\n  </thead>\n  <tbody>\n    <tr>\n      <th>0</th>\n      <td>0.00</td>\n      <td>2023-11-20 03:38:00</td>\n      <td>0.00</td>\n      <td>0.66</td>\n      <td>0.00</td>\n      <td>0.0</td>\n      <td>0.0</td>\n      <td>0.0</td>\n      <td>0.5</td>\n      <td>0.0</td>\n      <td>...</td>\n      <td>0</td>\n      <td>0</td>\n      <td>0</td>\n      <td>0</td>\n      <td>0</td>\n      <td>0</td>\n      <td>0</td>\n      <td>0</td>\n      <td>0</td>\n      <td>0</td>\n    </tr>\n    <tr>\n      <th>1</th>\n      <td>0.25</td>\n      <td>2023-11-18 23:29:00</td>\n      <td>0.33</td>\n      <td>0.66</td>\n      <td>0.34</td>\n      <td>0.0</td>\n      <td>0.0</td>\n      <td>0.0</td>\n      <td>0.5</td>\n      <td>0.0</td>\n      <td>...</td>\n      <td>0</td>\n      <td>0</td>\n      <td>0</td>\n      <td>0</td>\n      <td>0</td>\n      <td>0</td>\n      <td>0</td>\n      <td>0</td>\n      <td>0</td>\n      <td>0</td>\n    </tr>\n  </tbody>\n</table>\n<p>2 rows × 35 columns</p>\n</div>"
     },
     "execution_count": 74,
     "metadata": {},
     "output_type": "execute_result"
    }
   ],
   "source": [
    "# Count all unique activity occurences\n",
    "activity_labels = [label for activities in df['activities'] for label in activities]\n",
    "label_to_count = dict(Counter(activity_labels))\n",
    "# Remove all low frequency labels\n",
    "high_freq_labels = [label for label in label_to_count.keys() if label_to_count[label] >= FREQ_THRESHOLD]\n",
    "df['activities'] = df['activities'].apply(lambda x: [i for i in x if i in high_freq_labels])\n",
    "# Create columns for one-hot encoding\n",
    "for label in high_freq_labels:\n",
    "    df[label] = 0\n",
    "# Fill one-hot encodings\n",
    "for i, row in df.iterrows():\n",
    "    for label in row['activities']:\n",
    "        df.at[i, label] = 1\n",
    "# Drop activity column\n",
    "df.drop(columns=['activities'], inplace=True)\n",
    "df.head(2)"
   ]
  },
  {
   "cell_type": "markdown",
   "source": [
    "### Add homeday"
   ],
   "metadata": {
    "collapsed": false
   }
  },
  {
   "cell_type": "code",
   "execution_count": 75,
   "outputs": [
    {
     "data": {
      "text/plain": "   success            datetime  energy  sleep  caffeine  job_hours  \\\n0     0.00 2023-11-20 03:38:00    0.00   0.66      0.00        0.0   \n1     0.25 2023-11-18 23:29:00    0.33   0.66      0.34        0.0   \n\n   study_hours  total_work_hours  luck  strategy  ...  healthy cooking  \\\n0          0.0               0.0   0.5       0.0  ...                0   \n1          0.0               0.0   0.5       0.0  ...                0   \n\n   notion  snoosing  angry  burtnieku  coworkers  rbs  office  spend money  \\\n0       0         0      0          0          0    0       0            0   \n1       0         0      0          0          0    0       0            0   \n\n   day_at_home  \n0            1  \n1            1  \n\n[2 rows x 36 columns]",
      "text/html": "<div>\n<style scoped>\n    .dataframe tbody tr th:only-of-type {\n        vertical-align: middle;\n    }\n\n    .dataframe tbody tr th {\n        vertical-align: top;\n    }\n\n    .dataframe thead th {\n        text-align: right;\n    }\n</style>\n<table border=\"1\" class=\"dataframe\">\n  <thead>\n    <tr style=\"text-align: right;\">\n      <th></th>\n      <th>success</th>\n      <th>datetime</th>\n      <th>energy</th>\n      <th>sleep</th>\n      <th>caffeine</th>\n      <th>job_hours</th>\n      <th>study_hours</th>\n      <th>total_work_hours</th>\n      <th>luck</th>\n      <th>strategy</th>\n      <th>...</th>\n      <th>healthy cooking</th>\n      <th>notion</th>\n      <th>snoosing</th>\n      <th>angry</th>\n      <th>burtnieku</th>\n      <th>coworkers</th>\n      <th>rbs</th>\n      <th>office</th>\n      <th>spend money</th>\n      <th>day_at_home</th>\n    </tr>\n  </thead>\n  <tbody>\n    <tr>\n      <th>0</th>\n      <td>0.00</td>\n      <td>2023-11-20 03:38:00</td>\n      <td>0.00</td>\n      <td>0.66</td>\n      <td>0.00</td>\n      <td>0.0</td>\n      <td>0.0</td>\n      <td>0.0</td>\n      <td>0.5</td>\n      <td>0.0</td>\n      <td>...</td>\n      <td>0</td>\n      <td>0</td>\n      <td>0</td>\n      <td>0</td>\n      <td>0</td>\n      <td>0</td>\n      <td>0</td>\n      <td>0</td>\n      <td>0</td>\n      <td>1</td>\n    </tr>\n    <tr>\n      <th>1</th>\n      <td>0.25</td>\n      <td>2023-11-18 23:29:00</td>\n      <td>0.33</td>\n      <td>0.66</td>\n      <td>0.34</td>\n      <td>0.0</td>\n      <td>0.0</td>\n      <td>0.0</td>\n      <td>0.5</td>\n      <td>0.0</td>\n      <td>...</td>\n      <td>0</td>\n      <td>0</td>\n      <td>0</td>\n      <td>0</td>\n      <td>0</td>\n      <td>0</td>\n      <td>0</td>\n      <td>0</td>\n      <td>0</td>\n      <td>1</td>\n    </tr>\n  </tbody>\n</table>\n<p>2 rows × 36 columns</p>\n</div>"
     },
     "execution_count": 75,
     "metadata": {},
     "output_type": "execute_result"
    }
   ],
   "source": [
    "df['day_at_home'] = ((df['office']==1) | (df['rbs']==1) | (df['burtnieku']==1))\n",
    "df['day_at_home'] = df['day_at_home'].apply(lambda x: 1 if x==0 else 0)\n",
    "df.head(2)"
   ],
   "metadata": {
    "collapsed": false,
    "ExecuteTime": {
     "end_time": "2023-11-26T13:55:53.869766Z",
     "start_time": "2023-11-26T13:55:53.737393Z"
    }
   }
  },
  {
   "cell_type": "markdown",
   "source": [
    "### Shift some values"
   ],
   "metadata": {
    "collapsed": false
   }
  },
  {
   "cell_type": "code",
   "execution_count": 76,
   "outputs": [
    {
     "data": {
      "text/plain": "    success            datetime  energy  sleep  caffeine  job_hours  \\\n43      0.5 2023-10-07 23:59:00    0.66   1.00      0.75        0.0   \n42      1.0 2023-10-08 15:09:00    0.66   0.66      0.34        0.0   \n\n    study_hours  total_work_hours  luck  strategy  ...  rbs  office  \\\n43          0.0               0.0   0.5      0.25  ...    0       0   \n42          0.0               0.0   0.5      0.50  ...    0       0   \n\n    spend money  day_at_home  success_1_day_before  sleep_1_day_before  \\\n43            1            0                   NaN                 NaN   \n42            1            1                   0.5                 1.0   \n\n    caffeine_1_day_before  energy_1_day_before  party_1_day_before  \\\n43                    NaN                  NaN                 NaN   \n42                   0.75                 0.66                 0.0   \n\n    total_work_hours_1_day_before  \n43                            NaN  \n42                            0.0  \n\n[2 rows x 42 columns]",
      "text/html": "<div>\n<style scoped>\n    .dataframe tbody tr th:only-of-type {\n        vertical-align: middle;\n    }\n\n    .dataframe tbody tr th {\n        vertical-align: top;\n    }\n\n    .dataframe thead th {\n        text-align: right;\n    }\n</style>\n<table border=\"1\" class=\"dataframe\">\n  <thead>\n    <tr style=\"text-align: right;\">\n      <th></th>\n      <th>success</th>\n      <th>datetime</th>\n      <th>energy</th>\n      <th>sleep</th>\n      <th>caffeine</th>\n      <th>job_hours</th>\n      <th>study_hours</th>\n      <th>total_work_hours</th>\n      <th>luck</th>\n      <th>strategy</th>\n      <th>...</th>\n      <th>rbs</th>\n      <th>office</th>\n      <th>spend money</th>\n      <th>day_at_home</th>\n      <th>success_1_day_before</th>\n      <th>sleep_1_day_before</th>\n      <th>caffeine_1_day_before</th>\n      <th>energy_1_day_before</th>\n      <th>party_1_day_before</th>\n      <th>total_work_hours_1_day_before</th>\n    </tr>\n  </thead>\n  <tbody>\n    <tr>\n      <th>43</th>\n      <td>0.5</td>\n      <td>2023-10-07 23:59:00</td>\n      <td>0.66</td>\n      <td>1.00</td>\n      <td>0.75</td>\n      <td>0.0</td>\n      <td>0.0</td>\n      <td>0.0</td>\n      <td>0.5</td>\n      <td>0.25</td>\n      <td>...</td>\n      <td>0</td>\n      <td>0</td>\n      <td>1</td>\n      <td>0</td>\n      <td>NaN</td>\n      <td>NaN</td>\n      <td>NaN</td>\n      <td>NaN</td>\n      <td>NaN</td>\n      <td>NaN</td>\n    </tr>\n    <tr>\n      <th>42</th>\n      <td>1.0</td>\n      <td>2023-10-08 15:09:00</td>\n      <td>0.66</td>\n      <td>0.66</td>\n      <td>0.34</td>\n      <td>0.0</td>\n      <td>0.0</td>\n      <td>0.0</td>\n      <td>0.5</td>\n      <td>0.50</td>\n      <td>...</td>\n      <td>0</td>\n      <td>0</td>\n      <td>1</td>\n      <td>1</td>\n      <td>0.5</td>\n      <td>1.0</td>\n      <td>0.75</td>\n      <td>0.66</td>\n      <td>0.0</td>\n      <td>0.0</td>\n    </tr>\n  </tbody>\n</table>\n<p>2 rows × 42 columns</p>\n</div>"
     },
     "execution_count": 76,
     "metadata": {},
     "output_type": "execute_result"
    }
   ],
   "source": [
    "# Sort record by datetime ascending\n",
    "df.sort_values(by='datetime', ascending=True, inplace=True)\n",
    "# Put add datetime shifts\n",
    "for i in range(1, DAYS_BEFORE_LIMIT + 1):\n",
    "    df[f'success_{i}_day_before'] = df['success'].shift(i)\n",
    "    df[f'sleep_{i}_day_before'] = df['sleep'].shift(i)\n",
    "    df[f'caffeine_{i}_day_before'] = df['caffeine'].shift(i)\n",
    "    df[f'energy_{i}_day_before'] = df['energy'].shift(i)\n",
    "    df[f'party_{i}_day_before'] = df['party'].shift(i)\n",
    "    df[f'total_work_hours_{i}_day_before'] = df['total_work_hours'].shift(i)\n",
    "df.head(2)"
   ],
   "metadata": {
    "collapsed": false,
    "ExecuteTime": {
     "end_time": "2023-11-26T13:55:53.872998Z",
     "start_time": "2023-11-26T13:55:53.763937Z"
    }
   }
  },
  {
   "cell_type": "markdown",
   "source": [
    "### Minor Improvements"
   ],
   "metadata": {
    "collapsed": false
   }
  },
  {
   "cell_type": "code",
   "execution_count": 77,
   "outputs": [],
   "source": [
    "df.rename(columns={\"snoosing\": \"snoozing\"}, inplace=True)"
   ],
   "metadata": {
    "collapsed": false,
    "ExecuteTime": {
     "end_time": "2023-11-26T13:55:53.873120Z",
     "start_time": "2023-11-26T13:55:53.768097Z"
    }
   }
  },
  {
   "cell_type": "markdown",
   "metadata": {},
   "source": [
    "### Save for Machine Learning"
   ]
  },
  {
   "cell_type": "code",
   "execution_count": 78,
   "metadata": {
    "ExecuteTime": {
     "end_time": "2023-11-26T13:55:53.873251Z",
     "start_time": "2023-11-26T13:55:53.772385Z"
    }
   },
   "outputs": [
    {
     "name": "stdout",
     "output_type": "stream",
     "text": [
      "<class 'pandas.core.frame.DataFrame'>\n",
      "Index: 44 entries, 43 to 0\n",
      "Data columns (total 36 columns):\n",
      " #   Column                         Non-Null Count  Dtype         \n",
      "---  ------                         --------------  -----         \n",
      " 0   success                        44 non-null     float64       \n",
      " 1   datetime                       44 non-null     datetime64[ns]\n",
      " 2   energy                         44 non-null     float64       \n",
      " 3   sleep                          44 non-null     float64       \n",
      " 4   caffeine                       44 non-null     float64       \n",
      " 5   job_hours                      44 non-null     float64       \n",
      " 6   study_hours                    44 non-null     float64       \n",
      " 7   total_work_hours               44 non-null     float64       \n",
      " 8   luck                           44 non-null     float64       \n",
      " 9   strategy                       44 non-null     float64       \n",
      " 10  agreeableness                  44 non-null     float64       \n",
      " 11  takeaway                       44 non-null     int64         \n",
      " 12  board games                    44 non-null     int64         \n",
      " 13  youtube                        44 non-null     int64         \n",
      " 14  reels                          44 non-null     int64         \n",
      " 15  laziness                       44 non-null     int64         \n",
      " 16  fast cooking                   44 non-null     int64         \n",
      " 17  treated                        44 non-null     int64         \n",
      " 18  shower                         44 non-null     int64         \n",
      " 19  party                          44 non-null     int64         \n",
      " 20  restaurant                     44 non-null     int64         \n",
      " 21  fasted                         44 non-null     int64         \n",
      " 22  healthy cooking                44 non-null     int64         \n",
      " 23  notion                         44 non-null     int64         \n",
      " 24  snoozing                       44 non-null     int64         \n",
      " 25  burtnieku                      44 non-null     int64         \n",
      " 26  rbs                            44 non-null     int64         \n",
      " 27  office                         44 non-null     int64         \n",
      " 28  spend money                    44 non-null     int64         \n",
      " 29  day_at_home                    44 non-null     int64         \n",
      " 30  success_1_day_before           43 non-null     float64       \n",
      " 31  sleep_1_day_before             43 non-null     float64       \n",
      " 32  caffeine_1_day_before          43 non-null     float64       \n",
      " 33  energy_1_day_before            43 non-null     float64       \n",
      " 34  party_1_day_before             43 non-null     float64       \n",
      " 35  total_work_hours_1_day_before  43 non-null     float64       \n",
      "dtypes: datetime64[ns](1), float64(16), int64(19)\n",
      "memory usage: 12.7 KB\n"
     ]
    }
   ],
   "source": [
    "# Drop meaningless and private features\n",
    "social_cols = ['friends', 'family', 'coworkers']\n",
    "emotional_cols = ['sad', 'happy', 'angry', 'feared', 'guilty']\n",
    "strategy_cols = ['focus on career', 'self- reflect', 'balance studies and job', 'avoid mistakes']\n",
    "undefined_cols = ['other']\n",
    "df.drop(columns=social_cols+emotional_cols+strategy_cols+undefined_cols, inplace=True, errors='ignore')\n",
    "# Export timeseries dataset to CSV\n",
    "df.to_csv(f'transformed_data_{DAYLIO_DATE}.csv', index=False)\n",
    "df.info()"
   ]
  },
  {
   "cell_type": "code",
   "execution_count": 78,
   "outputs": [],
   "source": [],
   "metadata": {
    "collapsed": false,
    "ExecuteTime": {
     "end_time": "2023-11-26T13:55:53.873301Z",
     "start_time": "2023-11-26T13:55:53.776674Z"
    }
   }
  }
 ],
 "metadata": {
  "kernelspec": {
   "display_name": "mlenv",
   "language": "python",
   "name": "python3"
  },
  "language_info": {
   "codemirror_mode": {
    "name": "ipython",
    "version": 3
   },
   "file_extension": ".py",
   "mimetype": "text/x-python",
   "name": "python",
   "nbconvert_exporter": "python",
   "pygments_lexer": "ipython3",
   "version": "3.9.0"
  },
  "orig_nbformat": 4
 },
 "nbformat": 4,
 "nbformat_minor": 2
}
