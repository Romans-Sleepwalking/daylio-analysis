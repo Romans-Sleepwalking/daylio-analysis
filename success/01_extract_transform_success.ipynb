{
 "cells": [
  {
   "cell_type": "markdown",
   "metadata": {},
   "source": [
    "# Prepare success data for analysis"
   ]
  },
  {
   "cell_type": "code",
   "execution_count": 1,
   "metadata": {
    "ExecuteTime": {
     "end_time": "2023-10-27T21:16:22.208119Z",
     "start_time": "2023-10-27T21:16:22.206787Z"
    }
   },
   "outputs": [],
   "source": [
    "import pandas as pd\n",
    "from collections import Counter\n",
    "# Specify the filename of the raw Daylio export\n",
    "filename = 'daylio_export_2023_10_27.csv'\n",
    "# Specify the project name\n",
    "project_name = 'oct_27'\n",
    "# Specify the removal threshold\n",
    "freq_threshold = 3"
   ]
  },
  {
   "cell_type": "markdown",
   "metadata": {},
   "source": [
    "### Read app data"
   ]
  },
  {
   "cell_type": "code",
   "execution_count": 2,
   "metadata": {
    "ExecuteTime": {
     "end_time": "2023-10-27T21:16:22.216618Z",
     "start_time": "2023-10-27T21:16:22.209630Z"
    }
   },
   "outputs": [
    {
     "data": {
      "text/plain": "    full_date        date    weekday   time               mood  \\\n0  2023-10-27  October 27     Friday  22:05            day off   \n1  2023-10-26  October 26   Thursday  22:20  strategic failure   \n2  2023-10-25  October 25  Wednesday  21:30  strategic success   \n3  2023-10-24  October 24    Tuesday  20:01  strategic success   \n4  2023-10-23  October 23     Monday  20:00  strategic success   \n\n                                          activities  \n0  treated | exhausted | 9+h | focus on career | ...  \n1  treated | exhausted | <5h | 3+ shots | focus o...  \n2  fast cooking | treated | quick | 5-7h | 3+ sho...  \n3  treated | fasted | rush | 7-9h | 2 shots | gre...  \n4  fast cooking | fasted | rush | 7-9h | 3+ shots...  ",
      "text/html": "<div>\n<style scoped>\n    .dataframe tbody tr th:only-of-type {\n        vertical-align: middle;\n    }\n\n    .dataframe tbody tr th {\n        vertical-align: top;\n    }\n\n    .dataframe thead th {\n        text-align: right;\n    }\n</style>\n<table border=\"1\" class=\"dataframe\">\n  <thead>\n    <tr style=\"text-align: right;\">\n      <th></th>\n      <th>full_date</th>\n      <th>date</th>\n      <th>weekday</th>\n      <th>time</th>\n      <th>mood</th>\n      <th>activities</th>\n    </tr>\n  </thead>\n  <tbody>\n    <tr>\n      <th>0</th>\n      <td>2023-10-27</td>\n      <td>October 27</td>\n      <td>Friday</td>\n      <td>22:05</td>\n      <td>day off</td>\n      <td>treated | exhausted | 9+h | focus on career | ...</td>\n    </tr>\n    <tr>\n      <th>1</th>\n      <td>2023-10-26</td>\n      <td>October 26</td>\n      <td>Thursday</td>\n      <td>22:20</td>\n      <td>strategic failure</td>\n      <td>treated | exhausted | &lt;5h | 3+ shots | focus o...</td>\n    </tr>\n    <tr>\n      <th>2</th>\n      <td>2023-10-25</td>\n      <td>October 25</td>\n      <td>Wednesday</td>\n      <td>21:30</td>\n      <td>strategic success</td>\n      <td>fast cooking | treated | quick | 5-7h | 3+ sho...</td>\n    </tr>\n    <tr>\n      <th>3</th>\n      <td>2023-10-24</td>\n      <td>October 24</td>\n      <td>Tuesday</td>\n      <td>20:01</td>\n      <td>strategic success</td>\n      <td>treated | fasted | rush | 7-9h | 2 shots | gre...</td>\n    </tr>\n    <tr>\n      <th>4</th>\n      <td>2023-10-23</td>\n      <td>October 23</td>\n      <td>Monday</td>\n      <td>20:00</td>\n      <td>strategic success</td>\n      <td>fast cooking | fasted | rush | 7-9h | 3+ shots...</td>\n    </tr>\n  </tbody>\n</table>\n</div>"
     },
     "execution_count": 2,
     "metadata": {},
     "output_type": "execute_result"
    }
   ],
   "source": [
    "# Read CSV file exported from the Daylio app\n",
    "df = pd.read_csv(filename)\n",
    "# Drop diary note columns\n",
    "df.drop(columns=['note_title', 'note'], inplace=True)\n",
    "df.head()"
   ]
  },
  {
   "cell_type": "markdown",
   "metadata": {},
   "source": [
    "### Create datetime column"
   ]
  },
  {
   "cell_type": "code",
   "execution_count": 3,
   "metadata": {
    "ExecuteTime": {
     "end_time": "2023-10-27T21:16:22.221099Z",
     "start_time": "2023-10-27T21:16:22.219097Z"
    }
   },
   "outputs": [
    {
     "name": "stdout",
     "output_type": "stream",
     "text": [
      "From 2023-10-07 23:59:00 to 2023-10-27 22:05:00\n"
     ]
    }
   ],
   "source": [
    "# Combine the date and time columns into a single one\n",
    "df['datetime'] = pd.to_datetime(df['full_date'] + ' ' + df['time'], format='%Y-%m-%d %H:%M')\n",
    "# Drop other date columns\n",
    "df.drop(columns=['full_date', 'weekday', 'date', 'time'], inplace=True)\n",
    "# Print earliest and latest dates\n",
    "print(f\"From {df['datetime'].min()} to {df['datetime'].max()}\")"
   ]
  },
  {
   "cell_type": "markdown",
   "metadata": {},
   "source": [
    "### Scale ordinal success labels"
   ]
  },
  {
   "cell_type": "code",
   "execution_count": 4,
   "metadata": {
    "ExecuteTime": {
     "end_time": "2023-10-27T21:16:22.226389Z",
     "start_time": "2023-10-27T21:16:22.224646Z"
    }
   },
   "outputs": [
    {
     "data": {
      "text/plain": "   success                                         activities  \\\n0     0.25  treated | exhausted | 9+h | focus on career | ...   \n1     0.00  treated | exhausted | <5h | 3+ shots | focus o...   \n2     1.00  fast cooking | treated | quick | 5-7h | 3+ sho...   \n3     1.00  treated | fasted | rush | 7-9h | 2 shots | gre...   \n4     1.00  fast cooking | fasted | rush | 7-9h | 3+ shots...   \n\n             datetime  \n0 2023-10-27 22:05:00  \n1 2023-10-26 22:20:00  \n2 2023-10-25 21:30:00  \n3 2023-10-24 20:01:00  \n4 2023-10-23 20:00:00  ",
      "text/html": "<div>\n<style scoped>\n    .dataframe tbody tr th:only-of-type {\n        vertical-align: middle;\n    }\n\n    .dataframe tbody tr th {\n        vertical-align: top;\n    }\n\n    .dataframe thead th {\n        text-align: right;\n    }\n</style>\n<table border=\"1\" class=\"dataframe\">\n  <thead>\n    <tr style=\"text-align: right;\">\n      <th></th>\n      <th>success</th>\n      <th>activities</th>\n      <th>datetime</th>\n    </tr>\n  </thead>\n  <tbody>\n    <tr>\n      <th>0</th>\n      <td>0.25</td>\n      <td>treated | exhausted | 9+h | focus on career | ...</td>\n      <td>2023-10-27 22:05:00</td>\n    </tr>\n    <tr>\n      <th>1</th>\n      <td>0.00</td>\n      <td>treated | exhausted | &lt;5h | 3+ shots | focus o...</td>\n      <td>2023-10-26 22:20:00</td>\n    </tr>\n    <tr>\n      <th>2</th>\n      <td>1.00</td>\n      <td>fast cooking | treated | quick | 5-7h | 3+ sho...</td>\n      <td>2023-10-25 21:30:00</td>\n    </tr>\n    <tr>\n      <th>3</th>\n      <td>1.00</td>\n      <td>treated | fasted | rush | 7-9h | 2 shots | gre...</td>\n      <td>2023-10-24 20:01:00</td>\n    </tr>\n    <tr>\n      <th>4</th>\n      <td>1.00</td>\n      <td>fast cooking | fasted | rush | 7-9h | 3+ shots...</td>\n      <td>2023-10-23 20:00:00</td>\n    </tr>\n  </tbody>\n</table>\n</div>"
     },
     "execution_count": 4,
     "metadata": {},
     "output_type": "execute_result"
    }
   ],
   "source": [
    "success_col = 'success'\n",
    "# Map each success label to ordinal scale\n",
    "success_scale = {\n",
    "    'strategic success': 1.00,\n",
    "    'gain': 0.75,\n",
    "    'expensive gain': 0.50,\n",
    "    'day off': 0.25,\n",
    "    'strategic failure': 0.00\n",
    "}\n",
    "# Create the success target column\n",
    "df.rename(columns={'mood': success_col}, inplace=True)\n",
    "df[success_col] = df[success_col].map(success_scale)\n",
    "df.head()"
   ]
  },
  {
   "cell_type": "markdown",
   "metadata": {},
   "source": [
    "### Scale ordinal sleep quality labels"
   ]
  },
  {
   "cell_type": "code",
   "execution_count": 5,
   "metadata": {
    "ExecuteTime": {
     "end_time": "2023-10-27T21:16:22.246965Z",
     "start_time": "2023-10-27T21:16:22.231390Z"
    }
   },
   "outputs": [
    {
     "data": {
      "text/plain": "   success                                         activities  \\\n0     0.25  [treated, exhausted, focus on career, balance ...   \n1     0.00  [treated, exhausted, 3+ shots, focus on career...   \n2     1.00  [fast cooking, treated, quick, 3+ shots, soda,...   \n3     1.00  [treated, fasted, rush, 2 shots, green tea, fo...   \n4     1.00  [fast cooking, fasted, rush, 3+ shots, soda, f...   \n\n             datetime  sleep  \n0 2023-10-27 22:05:00   1.00  \n1 2023-10-26 22:20:00   0.00  \n2 2023-10-25 21:30:00   0.33  \n3 2023-10-24 20:01:00   0.66  \n4 2023-10-23 20:00:00   0.66  ",
      "text/html": "<div>\n<style scoped>\n    .dataframe tbody tr th:only-of-type {\n        vertical-align: middle;\n    }\n\n    .dataframe tbody tr th {\n        vertical-align: top;\n    }\n\n    .dataframe thead th {\n        text-align: right;\n    }\n</style>\n<table border=\"1\" class=\"dataframe\">\n  <thead>\n    <tr style=\"text-align: right;\">\n      <th></th>\n      <th>success</th>\n      <th>activities</th>\n      <th>datetime</th>\n      <th>sleep</th>\n    </tr>\n  </thead>\n  <tbody>\n    <tr>\n      <th>0</th>\n      <td>0.25</td>\n      <td>[treated, exhausted, focus on career, balance ...</td>\n      <td>2023-10-27 22:05:00</td>\n      <td>1.00</td>\n    </tr>\n    <tr>\n      <th>1</th>\n      <td>0.00</td>\n      <td>[treated, exhausted, 3+ shots, focus on career...</td>\n      <td>2023-10-26 22:20:00</td>\n      <td>0.00</td>\n    </tr>\n    <tr>\n      <th>2</th>\n      <td>1.00</td>\n      <td>[fast cooking, treated, quick, 3+ shots, soda,...</td>\n      <td>2023-10-25 21:30:00</td>\n      <td>0.33</td>\n    </tr>\n    <tr>\n      <th>3</th>\n      <td>1.00</td>\n      <td>[treated, fasted, rush, 2 shots, green tea, fo...</td>\n      <td>2023-10-24 20:01:00</td>\n      <td>0.66</td>\n    </tr>\n    <tr>\n      <th>4</th>\n      <td>1.00</td>\n      <td>[fast cooking, fasted, rush, 3+ shots, soda, f...</td>\n      <td>2023-10-23 20:00:00</td>\n      <td>0.66</td>\n    </tr>\n  </tbody>\n</table>\n</div>"
     },
     "execution_count": 5,
     "metadata": {},
     "output_type": "execute_result"
    }
   ],
   "source": [
    "# Parse activities into list\n",
    "df['activities'] = df['activities'].apply(lambda x: x.split(' | '))\n",
    "# Clean activity\n",
    "def clean_activities(scale):\n",
    "    \"\"\"Remove activities from the activity list.\"\"\"\n",
    "    df['activities'] = df['activities'].apply(lambda x: [i for i in x if i not in scale.keys()])\n",
    "# Prepare a method to scale\n",
    "def scale_activities(scale, new_col_name):\n",
    "    \"\"\"Scale activities in the activity list.\"\"\"\n",
    "    df[new_col_name] = df['activities'].apply(lambda x: [i for i in x if i in scale.keys()])\n",
    "    clean_activities(scale)\n",
    "    df[new_col_name] = df[new_col_name].apply(lambda x: scale[x[0]] if len(x)>0 else None)\n",
    "# Map each sleep quality label to ordinal scale \n",
    "sleep_scale = {\n",
    "    '9+h': 1.00,\n",
    "    '7-9h': 0.66,\n",
    "    '5-7h': 0.33,\n",
    "    '<5h': 0\n",
    "}\n",
    "scale_activities(sleep_scale, 'sleep')\n",
    "df.head()"
   ]
  },
  {
   "cell_type": "markdown",
   "source": [
    "### Scale ordinal caffeine labels"
   ],
   "metadata": {
    "collapsed": false
   }
  },
  {
   "cell_type": "code",
   "execution_count": 6,
   "outputs": [
    {
     "data": {
      "text/plain": "   success                                         activities  \\\n0     0.25  [treated, exhausted, focus on career, balance ...   \n1     0.00  [treated, exhausted, focus on career, balance ...   \n2     1.00  [fast cooking, treated, quick, focus on career...   \n3     1.00  [treated, fasted, rush, focus on career, balan...   \n4     1.00  [fast cooking, fasted, rush, focus on career, ...   \n\n             datetime  sleep  caffeine  \n0 2023-10-27 22:05:00   1.00      0.00  \n1 2023-10-26 22:20:00   0.00      1.00  \n2 2023-10-25 21:30:00   0.33      1.00  \n3 2023-10-24 20:01:00   0.66      0.92  \n4 2023-10-23 20:00:00   0.66      1.00  ",
      "text/html": "<div>\n<style scoped>\n    .dataframe tbody tr th:only-of-type {\n        vertical-align: middle;\n    }\n\n    .dataframe tbody tr th {\n        vertical-align: top;\n    }\n\n    .dataframe thead th {\n        text-align: right;\n    }\n</style>\n<table border=\"1\" class=\"dataframe\">\n  <thead>\n    <tr style=\"text-align: right;\">\n      <th></th>\n      <th>success</th>\n      <th>activities</th>\n      <th>datetime</th>\n      <th>sleep</th>\n      <th>caffeine</th>\n    </tr>\n  </thead>\n  <tbody>\n    <tr>\n      <th>0</th>\n      <td>0.25</td>\n      <td>[treated, exhausted, focus on career, balance ...</td>\n      <td>2023-10-27 22:05:00</td>\n      <td>1.00</td>\n      <td>0.00</td>\n    </tr>\n    <tr>\n      <th>1</th>\n      <td>0.00</td>\n      <td>[treated, exhausted, focus on career, balance ...</td>\n      <td>2023-10-26 22:20:00</td>\n      <td>0.00</td>\n      <td>1.00</td>\n    </tr>\n    <tr>\n      <th>2</th>\n      <td>1.00</td>\n      <td>[fast cooking, treated, quick, focus on career...</td>\n      <td>2023-10-25 21:30:00</td>\n      <td>0.33</td>\n      <td>1.00</td>\n    </tr>\n    <tr>\n      <th>3</th>\n      <td>1.00</td>\n      <td>[treated, fasted, rush, focus on career, balan...</td>\n      <td>2023-10-24 20:01:00</td>\n      <td>0.66</td>\n      <td>0.92</td>\n    </tr>\n    <tr>\n      <th>4</th>\n      <td>1.00</td>\n      <td>[fast cooking, fasted, rush, focus on career, ...</td>\n      <td>2023-10-23 20:00:00</td>\n      <td>0.66</td>\n      <td>1.00</td>\n    </tr>\n  </tbody>\n</table>\n</div>"
     },
     "execution_count": 6,
     "metadata": {},
     "output_type": "execute_result"
    }
   ],
   "source": [
    "# Prepare a method to increment scale\n",
    "def increment_scale(activities, scale):\n",
    "    \"\"\"Increment scale with other activities.\"\"\"\n",
    "    total = 0\n",
    "    for item in activities:\n",
    "        if item in scale:\n",
    "            total += scale[item]\n",
    "    return total\n",
    "# Balance any feature\n",
    "def balance_feature(col, default=0):\n",
    "    \"\"\"Put zeroes and minimise ones.\"\"\"\n",
    "    df[col].fillna(default, inplace=True)\n",
    "    df[col] = df[col].apply(lambda x: 1 if x>1 else x)\n",
    "# Scale coffee shots\n",
    "caffeine_scale = {\n",
    "    '3+ shots': 1.00,\n",
    "    '2 shots': 0.67,\n",
    "    '1 shot': 0.34,\n",
    "}\n",
    "scale_activities(caffeine_scale, 'caffeine')\n",
    "# Add other caffeine drinks\n",
    "other_caffeine_drinks = {\n",
    "    'soda': 0.16,\n",
    "    'green tea': 0.25\n",
    "}\n",
    "df['caffeine'] += df['activities'].apply(increment_scale, args=(other_caffeine_drinks, ))\n",
    "clean_activities(other_caffeine_drinks)\n",
    "# Balance the feature\n",
    "balance_feature('caffeine')\n",
    "df.head()"
   ],
   "metadata": {
    "collapsed": false,
    "ExecuteTime": {
     "end_time": "2023-10-27T21:16:22.257618Z",
     "start_time": "2023-10-27T21:16:22.238356Z"
    }
   }
  },
  {
   "cell_type": "markdown",
   "source": [
    "### Scale energy"
   ],
   "metadata": {
    "collapsed": false
   }
  },
  {
   "cell_type": "code",
   "execution_count": 7,
   "outputs": [
    {
     "data": {
      "text/plain": "   success                                         activities  \\\n0     0.25  [treated, focus on career, balance studies and...   \n1     0.00  [treated, focus on career, balance studies and...   \n2     1.00  [fast cooking, treated, focus on career, balan...   \n3     1.00  [treated, fasted, focus on career, balance stu...   \n4     1.00  [fast cooking, fasted, focus on career, balanc...   \n\n             datetime  sleep  caffeine  energy  \n0 2023-10-27 22:05:00   1.00      0.00    0.00  \n1 2023-10-26 22:20:00   0.00      1.00    0.00  \n2 2023-10-25 21:30:00   0.33      1.00    0.66  \n3 2023-10-24 20:01:00   0.66      0.92    1.00  \n4 2023-10-23 20:00:00   0.66      1.00    1.00  ",
      "text/html": "<div>\n<style scoped>\n    .dataframe tbody tr th:only-of-type {\n        vertical-align: middle;\n    }\n\n    .dataframe tbody tr th {\n        vertical-align: top;\n    }\n\n    .dataframe thead th {\n        text-align: right;\n    }\n</style>\n<table border=\"1\" class=\"dataframe\">\n  <thead>\n    <tr style=\"text-align: right;\">\n      <th></th>\n      <th>success</th>\n      <th>activities</th>\n      <th>datetime</th>\n      <th>sleep</th>\n      <th>caffeine</th>\n      <th>energy</th>\n    </tr>\n  </thead>\n  <tbody>\n    <tr>\n      <th>0</th>\n      <td>0.25</td>\n      <td>[treated, focus on career, balance studies and...</td>\n      <td>2023-10-27 22:05:00</td>\n      <td>1.00</td>\n      <td>0.00</td>\n      <td>0.00</td>\n    </tr>\n    <tr>\n      <th>1</th>\n      <td>0.00</td>\n      <td>[treated, focus on career, balance studies and...</td>\n      <td>2023-10-26 22:20:00</td>\n      <td>0.00</td>\n      <td>1.00</td>\n      <td>0.00</td>\n    </tr>\n    <tr>\n      <th>2</th>\n      <td>1.00</td>\n      <td>[fast cooking, treated, focus on career, balan...</td>\n      <td>2023-10-25 21:30:00</td>\n      <td>0.33</td>\n      <td>1.00</td>\n      <td>0.66</td>\n    </tr>\n    <tr>\n      <th>3</th>\n      <td>1.00</td>\n      <td>[treated, fasted, focus on career, balance stu...</td>\n      <td>2023-10-24 20:01:00</td>\n      <td>0.66</td>\n      <td>0.92</td>\n      <td>1.00</td>\n    </tr>\n    <tr>\n      <th>4</th>\n      <td>1.00</td>\n      <td>[fast cooking, fasted, focus on career, balanc...</td>\n      <td>2023-10-23 20:00:00</td>\n      <td>0.66</td>\n      <td>1.00</td>\n      <td>1.00</td>\n    </tr>\n  </tbody>\n</table>\n</div>"
     },
     "execution_count": 7,
     "metadata": {},
     "output_type": "execute_result"
    }
   ],
   "source": [
    "# Map each energy label to ordinal scale \n",
    "energy_scale = {\n",
    "    'rush': 1.00,\n",
    "    'quick': 0.66,\n",
    "    'slow': 0.33,\n",
    "    'exhausted': 0\n",
    "}\n",
    "scale_activities(energy_scale, 'energy')\n",
    "df.head()"
   ],
   "metadata": {
    "collapsed": false,
    "ExecuteTime": {
     "end_time": "2023-10-27T21:16:22.273703Z",
     "start_time": "2023-10-27T21:16:22.243798Z"
    }
   }
  },
  {
   "cell_type": "markdown",
   "source": [
    "### Scale Job"
   ],
   "metadata": {
    "collapsed": false
   }
  },
  {
   "cell_type": "code",
   "execution_count": 8,
   "outputs": [
    {
     "data": {
      "text/plain": "   success                                         activities  \\\n0     0.25  [treated, focus on career, balance studies and...   \n1     0.00  [treated, focus on career, balance studies and...   \n2     1.00  [fast cooking, treated, focus on career, balan...   \n3     1.00  [treated, fasted, focus on career, balance stu...   \n4     1.00  [fast cooking, fasted, focus on career, balanc...   \n\n             datetime  sleep  caffeine  energy   job  \n0 2023-10-27 22:05:00   1.00      0.00    0.00  0.25  \n1 2023-10-26 22:20:00   0.00      1.00    0.00  0.50  \n2 2023-10-25 21:30:00   0.33      1.00    0.66  0.50  \n3 2023-10-24 20:01:00   0.66      0.92    1.00  0.75  \n4 2023-10-23 20:00:00   0.66      1.00    1.00  0.50  ",
      "text/html": "<div>\n<style scoped>\n    .dataframe tbody tr th:only-of-type {\n        vertical-align: middle;\n    }\n\n    .dataframe tbody tr th {\n        vertical-align: top;\n    }\n\n    .dataframe thead th {\n        text-align: right;\n    }\n</style>\n<table border=\"1\" class=\"dataframe\">\n  <thead>\n    <tr style=\"text-align: right;\">\n      <th></th>\n      <th>success</th>\n      <th>activities</th>\n      <th>datetime</th>\n      <th>sleep</th>\n      <th>caffeine</th>\n      <th>energy</th>\n      <th>job</th>\n    </tr>\n  </thead>\n  <tbody>\n    <tr>\n      <th>0</th>\n      <td>0.25</td>\n      <td>[treated, focus on career, balance studies and...</td>\n      <td>2023-10-27 22:05:00</td>\n      <td>1.00</td>\n      <td>0.00</td>\n      <td>0.00</td>\n      <td>0.25</td>\n    </tr>\n    <tr>\n      <th>1</th>\n      <td>0.00</td>\n      <td>[treated, focus on career, balance studies and...</td>\n      <td>2023-10-26 22:20:00</td>\n      <td>0.00</td>\n      <td>1.00</td>\n      <td>0.00</td>\n      <td>0.50</td>\n    </tr>\n    <tr>\n      <th>2</th>\n      <td>1.00</td>\n      <td>[fast cooking, treated, focus on career, balan...</td>\n      <td>2023-10-25 21:30:00</td>\n      <td>0.33</td>\n      <td>1.00</td>\n      <td>0.66</td>\n      <td>0.50</td>\n    </tr>\n    <tr>\n      <th>3</th>\n      <td>1.00</td>\n      <td>[treated, fasted, focus on career, balance stu...</td>\n      <td>2023-10-24 20:01:00</td>\n      <td>0.66</td>\n      <td>0.92</td>\n      <td>1.00</td>\n      <td>0.75</td>\n    </tr>\n    <tr>\n      <th>4</th>\n      <td>1.00</td>\n      <td>[fast cooking, fasted, focus on career, balanc...</td>\n      <td>2023-10-23 20:00:00</td>\n      <td>0.66</td>\n      <td>1.00</td>\n      <td>1.00</td>\n      <td>0.50</td>\n    </tr>\n  </tbody>\n</table>\n</div>"
     },
     "execution_count": 8,
     "metadata": {},
     "output_type": "execute_result"
    }
   ],
   "source": [
    "# Map job label to ordinal scale \n",
    "job_scale = {\n",
    "    'worked 7+ hours': 1.00,\n",
    "    'worked 5-6 hours': 0.75,\n",
    "    'worked 3-4 hours': 0.50,\n",
    "    'worked <2 hours': 0.25\n",
    "}\n",
    "scale_activities(job_scale, 'job')\n",
    "balance_feature('job')\n",
    "df.head()"
   ],
   "metadata": {
    "collapsed": false,
    "ExecuteTime": {
     "end_time": "2023-10-27T21:16:22.283222Z",
     "start_time": "2023-10-27T21:16:22.251381Z"
    }
   }
  },
  {
   "cell_type": "markdown",
   "source": [
    "### Scale Studies"
   ],
   "metadata": {
    "collapsed": false
   }
  },
  {
   "cell_type": "code",
   "execution_count": 9,
   "outputs": [
    {
     "data": {
      "text/plain": "   success                                         activities  \\\n0     0.25  [treated, focus on career, balance studies and...   \n1     0.00  [treated, focus on career, balance studies and...   \n2     1.00  [fast cooking, treated, focus on career, balan...   \n3     1.00  [treated, fasted, focus on career, balance stu...   \n4     1.00  [fast cooking, fasted, focus on career, balanc...   \n\n             datetime  sleep  caffeine  energy   job  study  \n0 2023-10-27 22:05:00   1.00      0.00    0.00  0.25   0.00  \n1 2023-10-26 22:20:00   0.00      1.00    0.00  0.50   0.75  \n2 2023-10-25 21:30:00   0.33      1.00    0.66  0.50   0.50  \n3 2023-10-24 20:01:00   0.66      0.92    1.00  0.75   0.75  \n4 2023-10-23 20:00:00   0.66      1.00    1.00  0.50   1.00  ",
      "text/html": "<div>\n<style scoped>\n    .dataframe tbody tr th:only-of-type {\n        vertical-align: middle;\n    }\n\n    .dataframe tbody tr th {\n        vertical-align: top;\n    }\n\n    .dataframe thead th {\n        text-align: right;\n    }\n</style>\n<table border=\"1\" class=\"dataframe\">\n  <thead>\n    <tr style=\"text-align: right;\">\n      <th></th>\n      <th>success</th>\n      <th>activities</th>\n      <th>datetime</th>\n      <th>sleep</th>\n      <th>caffeine</th>\n      <th>energy</th>\n      <th>job</th>\n      <th>study</th>\n    </tr>\n  </thead>\n  <tbody>\n    <tr>\n      <th>0</th>\n      <td>0.25</td>\n      <td>[treated, focus on career, balance studies and...</td>\n      <td>2023-10-27 22:05:00</td>\n      <td>1.00</td>\n      <td>0.00</td>\n      <td>0.00</td>\n      <td>0.25</td>\n      <td>0.00</td>\n    </tr>\n    <tr>\n      <th>1</th>\n      <td>0.00</td>\n      <td>[treated, focus on career, balance studies and...</td>\n      <td>2023-10-26 22:20:00</td>\n      <td>0.00</td>\n      <td>1.00</td>\n      <td>0.00</td>\n      <td>0.50</td>\n      <td>0.75</td>\n    </tr>\n    <tr>\n      <th>2</th>\n      <td>1.00</td>\n      <td>[fast cooking, treated, focus on career, balan...</td>\n      <td>2023-10-25 21:30:00</td>\n      <td>0.33</td>\n      <td>1.00</td>\n      <td>0.66</td>\n      <td>0.50</td>\n      <td>0.50</td>\n    </tr>\n    <tr>\n      <th>3</th>\n      <td>1.00</td>\n      <td>[treated, fasted, focus on career, balance stu...</td>\n      <td>2023-10-24 20:01:00</td>\n      <td>0.66</td>\n      <td>0.92</td>\n      <td>1.00</td>\n      <td>0.75</td>\n      <td>0.75</td>\n    </tr>\n    <tr>\n      <th>4</th>\n      <td>1.00</td>\n      <td>[fast cooking, fasted, focus on career, balanc...</td>\n      <td>2023-10-23 20:00:00</td>\n      <td>0.66</td>\n      <td>1.00</td>\n      <td>1.00</td>\n      <td>0.50</td>\n      <td>1.00</td>\n    </tr>\n  </tbody>\n</table>\n</div>"
     },
     "execution_count": 9,
     "metadata": {},
     "output_type": "execute_result"
    }
   ],
   "source": [
    "# Map study label to ordinal scale \n",
    "study_scale = {\n",
    "    'studied 7+ hours': 1.00,\n",
    "    'studied 5-6 hours': 0.75,\n",
    "    'studied 3-4 hours': 0.50,\n",
    "    'studied <2 hours': 0.25\n",
    "}\n",
    "scale_activities(study_scale, 'study')\n",
    "balance_feature('study')\n",
    "df.head()"
   ],
   "metadata": {
    "collapsed": false,
    "ExecuteTime": {
     "end_time": "2023-10-27T21:16:22.287620Z",
     "start_time": "2023-10-27T21:16:22.252946Z"
    }
   }
  },
  {
   "cell_type": "markdown",
   "metadata": {},
   "source": [
    "### One-hot encode other activities"
   ]
  },
  {
   "cell_type": "code",
   "execution_count": 10,
   "metadata": {
    "ExecuteTime": {
     "end_time": "2023-10-27T21:16:22.314811Z",
     "start_time": "2023-10-27T21:16:22.261508Z"
    }
   },
   "outputs": [
    {
     "data": {
      "text/plain": "   success            datetime  sleep  caffeine  energy   job  study  treated  \\\n0     0.25 2023-10-27 22:05:00   1.00      0.00    0.00  0.25   0.00        1   \n1     0.00 2023-10-26 22:20:00   0.00      1.00    0.00  0.50   0.75        1   \n2     1.00 2023-10-25 21:30:00   0.33      1.00    0.66  0.50   0.50        1   \n3     1.00 2023-10-24 20:01:00   0.66      0.92    1.00  0.75   0.75        1   \n4     1.00 2023-10-23 20:00:00   0.66      1.00    1.00  0.50   1.00        0   \n\n   focus on career  balance studies and job  ...  office  fasted  happy  \\\n0                1                        1  ...       0       0      0   \n1                1                        1  ...       0       0      0   \n2                1                        1  ...       1       0      0   \n3                1                        1  ...       0       1      1   \n4                1                        1  ...       1       1      0   \n\n   lucky  healthy cooking  notion  feared  restaurant  spend money  movie  \n0      0                0       0       0           0            0      0  \n1      0                0       0       0           0            0      0  \n2      0                0       0       0           0            0      0  \n3      0                0       0       0           0            0      0  \n4      1                0       0       0           0            0      0  \n\n[5 rows x 33 columns]",
      "text/html": "<div>\n<style scoped>\n    .dataframe tbody tr th:only-of-type {\n        vertical-align: middle;\n    }\n\n    .dataframe tbody tr th {\n        vertical-align: top;\n    }\n\n    .dataframe thead th {\n        text-align: right;\n    }\n</style>\n<table border=\"1\" class=\"dataframe\">\n  <thead>\n    <tr style=\"text-align: right;\">\n      <th></th>\n      <th>success</th>\n      <th>datetime</th>\n      <th>sleep</th>\n      <th>caffeine</th>\n      <th>energy</th>\n      <th>job</th>\n      <th>study</th>\n      <th>treated</th>\n      <th>focus on career</th>\n      <th>balance studies and job</th>\n      <th>...</th>\n      <th>office</th>\n      <th>fasted</th>\n      <th>happy</th>\n      <th>lucky</th>\n      <th>healthy cooking</th>\n      <th>notion</th>\n      <th>feared</th>\n      <th>restaurant</th>\n      <th>spend money</th>\n      <th>movie</th>\n    </tr>\n  </thead>\n  <tbody>\n    <tr>\n      <th>0</th>\n      <td>0.25</td>\n      <td>2023-10-27 22:05:00</td>\n      <td>1.00</td>\n      <td>0.00</td>\n      <td>0.00</td>\n      <td>0.25</td>\n      <td>0.00</td>\n      <td>1</td>\n      <td>1</td>\n      <td>1</td>\n      <td>...</td>\n      <td>0</td>\n      <td>0</td>\n      <td>0</td>\n      <td>0</td>\n      <td>0</td>\n      <td>0</td>\n      <td>0</td>\n      <td>0</td>\n      <td>0</td>\n      <td>0</td>\n    </tr>\n    <tr>\n      <th>1</th>\n      <td>0.00</td>\n      <td>2023-10-26 22:20:00</td>\n      <td>0.00</td>\n      <td>1.00</td>\n      <td>0.00</td>\n      <td>0.50</td>\n      <td>0.75</td>\n      <td>1</td>\n      <td>1</td>\n      <td>1</td>\n      <td>...</td>\n      <td>0</td>\n      <td>0</td>\n      <td>0</td>\n      <td>0</td>\n      <td>0</td>\n      <td>0</td>\n      <td>0</td>\n      <td>0</td>\n      <td>0</td>\n      <td>0</td>\n    </tr>\n    <tr>\n      <th>2</th>\n      <td>1.00</td>\n      <td>2023-10-25 21:30:00</td>\n      <td>0.33</td>\n      <td>1.00</td>\n      <td>0.66</td>\n      <td>0.50</td>\n      <td>0.50</td>\n      <td>1</td>\n      <td>1</td>\n      <td>1</td>\n      <td>...</td>\n      <td>1</td>\n      <td>0</td>\n      <td>0</td>\n      <td>0</td>\n      <td>0</td>\n      <td>0</td>\n      <td>0</td>\n      <td>0</td>\n      <td>0</td>\n      <td>0</td>\n    </tr>\n    <tr>\n      <th>3</th>\n      <td>1.00</td>\n      <td>2023-10-24 20:01:00</td>\n      <td>0.66</td>\n      <td>0.92</td>\n      <td>1.00</td>\n      <td>0.75</td>\n      <td>0.75</td>\n      <td>1</td>\n      <td>1</td>\n      <td>1</td>\n      <td>...</td>\n      <td>0</td>\n      <td>1</td>\n      <td>1</td>\n      <td>0</td>\n      <td>0</td>\n      <td>0</td>\n      <td>0</td>\n      <td>0</td>\n      <td>0</td>\n      <td>0</td>\n    </tr>\n    <tr>\n      <th>4</th>\n      <td>1.00</td>\n      <td>2023-10-23 20:00:00</td>\n      <td>0.66</td>\n      <td>1.00</td>\n      <td>1.00</td>\n      <td>0.50</td>\n      <td>1.00</td>\n      <td>0</td>\n      <td>1</td>\n      <td>1</td>\n      <td>...</td>\n      <td>1</td>\n      <td>1</td>\n      <td>0</td>\n      <td>1</td>\n      <td>0</td>\n      <td>0</td>\n      <td>0</td>\n      <td>0</td>\n      <td>0</td>\n      <td>0</td>\n    </tr>\n  </tbody>\n</table>\n<p>5 rows × 33 columns</p>\n</div>"
     },
     "execution_count": 10,
     "metadata": {},
     "output_type": "execute_result"
    }
   ],
   "source": [
    "# Count all unique activity occurences\n",
    "activity_labels = [label for activities in df['activities'] for label in activities]\n",
    "label_to_count = dict(Counter(activity_labels))\n",
    "# Remove all low frequency labels\n",
    "high_freq_labels = [label for label in label_to_count.keys() if label_to_count[label] >= freq_threshold]\n",
    "df['activities'] = df['activities'].apply(lambda x: [i for i in x if i in high_freq_labels])\n",
    "# Create columns for one-hot encoding\n",
    "for label in high_freq_labels:\n",
    "    df[label] = 0\n",
    "# Fill one-hot encodings\n",
    "for i, row in df.iterrows():\n",
    "    for label in row['activities']:\n",
    "        df.at[i, label] = 1\n",
    "# Drop activity column\n",
    "df.drop(columns=['activities'], inplace=True)\n",
    "df.head()"
   ]
  },
  {
   "cell_type": "markdown",
   "source": [
    "### Shift some values"
   ],
   "metadata": {
    "collapsed": false
   }
  },
  {
   "cell_type": "code",
   "execution_count": 11,
   "outputs": [
    {
     "data": {
      "text/plain": "    success            datetime  sleep  caffeine  energy   job  study  \\\n20     0.50 2023-10-07 23:59:00   1.00      0.75    0.66  0.00   0.00   \n19     1.00 2023-10-08 15:09:00   0.66      0.34    0.66  0.00   0.00   \n18     0.75 2023-10-09 22:15:00   0.66      1.00    0.66  1.00   0.25   \n17     0.50 2023-10-10 20:00:00   0.33      1.00    0.00  0.75   0.50   \n16     1.00 2023-10-11 20:06:00   0.33      1.00    1.00  0.25   1.00   \n\n    treated  focus on career  balance studies and job  ...  healthy cooking  \\\n20        1                0                        0  ...                0   \n19        0                0                        0  ...                1   \n18        1                1                        0  ...                1   \n17        1                1                        1  ...                0   \n16        1                1                        1  ...                1   \n\n    notion  feared  restaurant  spend money  movie  success_yesterday  \\\n20       0       0           1            1      1                NaN   \n19       1       0           0            1      0               0.50   \n18       1       1           0            0      0               1.00   \n17       1       1           0            1      0               0.75   \n16       1       0           0            1      0               0.50   \n\n    sleep_yesterday  caffeine_yesterday  energy_yesterday  \n20              NaN                 NaN               NaN  \n19             1.00                0.75              0.66  \n18             0.66                0.34              0.66  \n17             0.66                1.00              0.66  \n16             0.33                1.00              0.00  \n\n[5 rows x 37 columns]",
      "text/html": "<div>\n<style scoped>\n    .dataframe tbody tr th:only-of-type {\n        vertical-align: middle;\n    }\n\n    .dataframe tbody tr th {\n        vertical-align: top;\n    }\n\n    .dataframe thead th {\n        text-align: right;\n    }\n</style>\n<table border=\"1\" class=\"dataframe\">\n  <thead>\n    <tr style=\"text-align: right;\">\n      <th></th>\n      <th>success</th>\n      <th>datetime</th>\n      <th>sleep</th>\n      <th>caffeine</th>\n      <th>energy</th>\n      <th>job</th>\n      <th>study</th>\n      <th>treated</th>\n      <th>focus on career</th>\n      <th>balance studies and job</th>\n      <th>...</th>\n      <th>healthy cooking</th>\n      <th>notion</th>\n      <th>feared</th>\n      <th>restaurant</th>\n      <th>spend money</th>\n      <th>movie</th>\n      <th>success_yesterday</th>\n      <th>sleep_yesterday</th>\n      <th>caffeine_yesterday</th>\n      <th>energy_yesterday</th>\n    </tr>\n  </thead>\n  <tbody>\n    <tr>\n      <th>20</th>\n      <td>0.50</td>\n      <td>2023-10-07 23:59:00</td>\n      <td>1.00</td>\n      <td>0.75</td>\n      <td>0.66</td>\n      <td>0.00</td>\n      <td>0.00</td>\n      <td>1</td>\n      <td>0</td>\n      <td>0</td>\n      <td>...</td>\n      <td>0</td>\n      <td>0</td>\n      <td>0</td>\n      <td>1</td>\n      <td>1</td>\n      <td>1</td>\n      <td>NaN</td>\n      <td>NaN</td>\n      <td>NaN</td>\n      <td>NaN</td>\n    </tr>\n    <tr>\n      <th>19</th>\n      <td>1.00</td>\n      <td>2023-10-08 15:09:00</td>\n      <td>0.66</td>\n      <td>0.34</td>\n      <td>0.66</td>\n      <td>0.00</td>\n      <td>0.00</td>\n      <td>0</td>\n      <td>0</td>\n      <td>0</td>\n      <td>...</td>\n      <td>1</td>\n      <td>1</td>\n      <td>0</td>\n      <td>0</td>\n      <td>1</td>\n      <td>0</td>\n      <td>0.50</td>\n      <td>1.00</td>\n      <td>0.75</td>\n      <td>0.66</td>\n    </tr>\n    <tr>\n      <th>18</th>\n      <td>0.75</td>\n      <td>2023-10-09 22:15:00</td>\n      <td>0.66</td>\n      <td>1.00</td>\n      <td>0.66</td>\n      <td>1.00</td>\n      <td>0.25</td>\n      <td>1</td>\n      <td>1</td>\n      <td>0</td>\n      <td>...</td>\n      <td>1</td>\n      <td>1</td>\n      <td>1</td>\n      <td>0</td>\n      <td>0</td>\n      <td>0</td>\n      <td>1.00</td>\n      <td>0.66</td>\n      <td>0.34</td>\n      <td>0.66</td>\n    </tr>\n    <tr>\n      <th>17</th>\n      <td>0.50</td>\n      <td>2023-10-10 20:00:00</td>\n      <td>0.33</td>\n      <td>1.00</td>\n      <td>0.00</td>\n      <td>0.75</td>\n      <td>0.50</td>\n      <td>1</td>\n      <td>1</td>\n      <td>1</td>\n      <td>...</td>\n      <td>0</td>\n      <td>1</td>\n      <td>1</td>\n      <td>0</td>\n      <td>1</td>\n      <td>0</td>\n      <td>0.75</td>\n      <td>0.66</td>\n      <td>1.00</td>\n      <td>0.66</td>\n    </tr>\n    <tr>\n      <th>16</th>\n      <td>1.00</td>\n      <td>2023-10-11 20:06:00</td>\n      <td>0.33</td>\n      <td>1.00</td>\n      <td>1.00</td>\n      <td>0.25</td>\n      <td>1.00</td>\n      <td>1</td>\n      <td>1</td>\n      <td>1</td>\n      <td>...</td>\n      <td>1</td>\n      <td>1</td>\n      <td>0</td>\n      <td>0</td>\n      <td>1</td>\n      <td>0</td>\n      <td>0.50</td>\n      <td>0.33</td>\n      <td>1.00</td>\n      <td>0.00</td>\n    </tr>\n  </tbody>\n</table>\n<p>5 rows × 37 columns</p>\n</div>"
     },
     "execution_count": 11,
     "metadata": {},
     "output_type": "execute_result"
    }
   ],
   "source": [
    "# Sort record by datetime ascending\n",
    "df.sort_values(by='datetime', ascending=True, inplace=True)\n",
    "# Put yesterday feature using shift\n",
    "df['success_yesterday'] = df['success'].shift(1)\n",
    "df['sleep_yesterday'] = df['sleep'].shift(1)\n",
    "df['caffeine_yesterday'] = df['caffeine'].shift(1)\n",
    "df['energy_yesterday'] = df['energy'].shift(1)\n",
    "df.head()"
   ],
   "metadata": {
    "collapsed": false,
    "ExecuteTime": {
     "end_time": "2023-10-27T21:16:22.316084Z",
     "start_time": "2023-10-27T21:16:22.273810Z"
    }
   }
  },
  {
   "cell_type": "markdown",
   "metadata": {},
   "source": [
    "### Save for Machine Learning"
   ]
  },
  {
   "cell_type": "code",
   "execution_count": 12,
   "metadata": {
    "ExecuteTime": {
     "end_time": "2023-10-27T21:16:22.317407Z",
     "start_time": "2023-10-27T21:16:22.284016Z"
    }
   },
   "outputs": [
    {
     "name": "stdout",
     "output_type": "stream",
     "text": [
      "<class 'pandas.core.frame.DataFrame'>\n",
      "Index: 21 entries, 20 to 0\n",
      "Data columns (total 29 columns):\n",
      " #   Column              Non-Null Count  Dtype         \n",
      "---  ------              --------------  -----         \n",
      " 0   success             21 non-null     float64       \n",
      " 1   datetime            21 non-null     datetime64[ns]\n",
      " 2   sleep               21 non-null     float64       \n",
      " 3   caffeine            21 non-null     float64       \n",
      " 4   energy              21 non-null     float64       \n",
      " 5   job                 21 non-null     float64       \n",
      " 6   study               21 non-null     float64       \n",
      " 7   treated             21 non-null     int64         \n",
      " 8   board games         21 non-null     int64         \n",
      " 9   youtube             21 non-null     int64         \n",
      " 10  laziness            21 non-null     int64         \n",
      " 11  shower              21 non-null     int64         \n",
      " 12  rbs                 21 non-null     int64         \n",
      " 13  burtnieku           21 non-null     int64         \n",
      " 14  snoosing            21 non-null     int64         \n",
      " 15  unlucky             21 non-null     int64         \n",
      " 16  fast cooking        21 non-null     int64         \n",
      " 17  office              21 non-null     int64         \n",
      " 18  fasted              21 non-null     int64         \n",
      " 19  lucky               21 non-null     int64         \n",
      " 20  healthy cooking     21 non-null     int64         \n",
      " 21  notion              21 non-null     int64         \n",
      " 22  restaurant          21 non-null     int64         \n",
      " 23  spend money         21 non-null     int64         \n",
      " 24  movie               21 non-null     int64         \n",
      " 25  success_yesterday   20 non-null     float64       \n",
      " 26  sleep_yesterday     20 non-null     float64       \n",
      " 27  caffeine_yesterday  20 non-null     float64       \n",
      " 28  energy_yesterday    20 non-null     float64       \n",
      "dtypes: datetime64[ns](1), float64(10), int64(18)\n",
      "memory usage: 4.9 KB\n"
     ]
    }
   ],
   "source": [
    "# Drop meaningless and private features\n",
    "social_cols = ['friends', 'family', 'coworkers']\n",
    "emotional_cols = ['sad', 'happy', 'angry', 'feared', 'guilty']\n",
    "strategy_cols = ['focus on career', 'self- reflect', 'balance studies and job', 'avoid mistakes']\n",
    "df.drop(columns=social_cols+emotional_cols+strategy_cols, inplace=True, errors='ignore')\n",
    "# Export timeseries dataset to CSV\n",
    "df.to_csv(f'success_data_{project_name}.csv', index=False)\n",
    "df.info()"
   ]
  },
  {
   "cell_type": "code",
   "execution_count": 12,
   "outputs": [],
   "source": [],
   "metadata": {
    "collapsed": false,
    "ExecuteTime": {
     "end_time": "2023-10-27T21:16:22.317459Z",
     "start_time": "2023-10-27T21:16:22.289923Z"
    }
   }
  }
 ],
 "metadata": {
  "kernelspec": {
   "display_name": "mlenv",
   "language": "python",
   "name": "python3"
  },
  "language_info": {
   "codemirror_mode": {
    "name": "ipython",
    "version": 3
   },
   "file_extension": ".py",
   "mimetype": "text/x-python",
   "name": "python",
   "nbconvert_exporter": "python",
   "pygments_lexer": "ipython3",
   "version": "3.9.0"
  },
  "orig_nbformat": 4
 },
 "nbformat": 4,
 "nbformat_minor": 2
}
